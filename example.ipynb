{
 "cells": [
  {
   "cell_type": "markdown",
   "metadata": {},
   "source": [
    "## Julia Macros : Learning through use cases\n",
    "\n",
    "If you are reading this, you either didn't read the Julia Meta Programming docs ; or you are a masochist. The docs are correct. Nobody in their right mind should be trying to create macros. They are too difficult. I didn't believe the docs. I **use** macros often. What would life be like without @btime; @match; @test; @kwdef. Their authors must be of sound mind. Surely macros can't be all that bad.\n",
    "\n",
    "I took the plunge. I wrote one. It was easy. The docs lied. I took the plunge again. I almost drowned in crypic errors. The docs are right. Macros are almost impossible. I must be a masochist. I thought if I studdied a few macros I would figure out the patterns and life would be good. I followed the patterns. I stuck random $'s signs and \"esc\" in various places in my macros. Sometimes it even worked. How many missteps would it take to figure out the patterns?\n",
    "\n",
    "### Key Takeaways\n",
    "\n",
    "1) The docs are right. Macros are a last resort.\n",
    "2) The fact that you think you need a macro probably means you didn't optimally structure your code to best take advantage of Julia.\n",
    "3) In the long run, optimizing the structure of your code will probably make your life easier.\n",
    "4) Don't be hell-bent on avoiding all copy and paste in your code. 100% DRY is just not worth it.\n",
    "5) If you decide to introduce macros, you may find the rest of this useful. \n",
    "6) If you are a language designer, you should defintely read this. Metaprogramming and programming should really one and the same. Somebody should nail it!\n",
    "\n",
    "### Disclaimer: Reading this is not going to make macros easy\n",
    "\n",
    "Reading this will help you understand why macros are hard. It may encourge you to try harder to find a function that will do a simalar job, or that copy and paste isn't as bad as you thought it was. \n",
    "\n",
    "### Background: Why I choose the masochistic route.\n",
    "\n",
    "I am building a DSL for composition. This is a passion project. It's first task is challenging! I am working on composing mulutimedia artworks comprising of music and images. I am hoping for a natural and expressive way for the composer to provide input to the composition process. A natural process will make for easy learning and easy iterative revisions. Nothing kills the creative flow more than hunting down coding errors and fighting the syntax to work around them. I know that if I use macros, I have less constraints on the syntax. Given the dire warnings in the docs, I wanted to know how viable it would front my API with macros, hiding most of my functions and resticting the amount of Julia syntax that the composer needs to understand. \n",
    "\n",
    "### Metagoal: Life lessons\n",
    "\n",
    "As technologists, we pride ourselves in what we know. We also pride ourselves in our ability to get stuff done. When our deep knowledge propells us to get stuff done better and faster, these two sources of pride are aligned. However when we favor what we know for expediant results, we actively avoid what we don't know. This is a big deal! It hampers our personal growth. It causes conflict in teams. I could go on..., but instead I will leave you with my abstract metagoal: to find techniques to embrace unknowns; get stuff done ; and make meaningful progress. \n",
    "\n",
    "> **Meaningful progress is unlikely to materialize directly from what you already know**.\n",
    "\n",
    "### A gentle start\n",
    "\n",
    "Not all macros are hard. When I got lucky with my first one, it wasn't luck. If all you need is a macro that substitutes a variable or two into templated code, you should be ok."
   ]
  },
  {
   "cell_type": "code",
   "execution_count": 1,
   "metadata": {},
   "outputs": [
    {
     "data": {
      "text/plain": [
       "@vectormult"
      ]
     },
     "metadata": {},
     "output_type": "display_data"
    }
   ],
   "source": [
    "\"\"\"\n",
    "Enable multiply for a struct with a .data vector\n",
    "\"\"\"\n",
    "macro vectormult(T)\n",
    "    quote\n",
    "        @eval begin\n",
    "            (*)(s::$T, x::Vector{Float64}) = s.data .* x\n",
    "            (*)(x::Vector{Float64}, s::$T) = s.data .* x\n",
    "\n",
    "            (*)(s::$T, x::Float64) = s.data .* x\n",
    "            (*)(x::Float64, s::$T) = s.data .* x\n",
    "\n",
    "            (*)(s::$T, x::Int) = s.data .* Float64(x)\n",
    "            (*)(x::Int, s::$T) = s.data .* Float64(x)\n",
    "\n",
    "            (*)(s::$T, x::$T) = s.data .* x.data\n",
    "        end\n",
    "    end\n",
    "end"
   ]
  },
  {
   "cell_type": "markdown",
   "metadata": {},
   "source": [
    "I have an aversion to copy and paste and I have lots of structs that contain a single vector and a bunch of properties. These structs are just dying to be multiplied by things. The macro above was a easy to write. It is not going to win any prizes for generic coding, but give me a break - this was my very first macro and it works for what I needed it for. Here is an example."
   ]
  },
  {
   "cell_type": "code",
   "execution_count": 2,
   "metadata": {},
   "outputs": [
    {
     "data": {
      "text/plain": [
       "2-element Vector{Float64}:\n",
       " 6.4\n",
       " 2.6"
      ]
     },
     "metadata": {},
     "output_type": "display_data"
    }
   ],
   "source": [
    "import Base: *\n",
    "\n",
    "struct Amplitude\n",
    "    data::Vector{Float64}\n",
    "    alpha::Float64\n",
    "    beta::Float64\n",
    "end\n",
    "\n",
    "@vectormult Amplitude\n",
    "\n",
    "a = Amplitude([3.2, 1.3], 0.5, 0.33)\n",
    "2a"
   ]
  },
  {
   "cell_type": "markdown",
   "metadata": {},
   "source": [
    "  \n",
    "\n",
    "> **Meta lesson 1**. There is no harm in seeking a stable foundation from which to dive into the abyss.\n",
    "\n",
    "  \n",
    "  \n",
    "\n",
    "That first macro is not exactly ground breaking, but it shows that macros can be easy. What makes this one easy is:\n",
    "\n",
    "1) It is basic template substitution. Julia substitutes T with Amplitude at compile time and produces new code that points to the Amplitude struct.\n",
    "2) The why it impacts the objects in the context that it runs is is predictable. It always introduces the same method (*).\n",
    "3) T is a scalar.\n",
    "4) The input to the macro (T) is not transformed by the macro. It is used as is: $T.\n",
    "\n",
    "For any macro that conforms to the above criteria, you have nothing to fear. Go forth and mutiply, divide or do anything to avoid the dreaded copy and paste.\n",
    "\n",
    "  \n",
    "  \n",
    "> **Meta lesson 2**. \"You know nothing John Snow\" - George R. R. Martin. \n",
    "  \n",
    "  \n",
    "\n",
    "When you consider the corollary of those 4 criteria, it is safe to assume the abyss is deep. \n"
   ]
  },
  {
   "cell_type": "markdown",
   "metadata": {},
   "source": [
    "### Julia Expressions\n",
    "\n",
    "There is a lot of material covering Julia expressions and the abstract syntax tree. I am not going to cover it again. The material is good, but I didn't find an obvious way to tie to the practicalities of macro building.  When attempting a macro that violoates any of the four easy criteria, you need to be aware of what is happening to whatever you pass into your macro. \n",
    "\n",
    " \n",
    " \n",
    "> **Meta lesson 3**. Dive playfully into the abyss without seeking immediate reward.\n",
    "   \n",
    "  The whole next section will deal with simply understanding how different things passed into a macro can be discovered inside the macro. The examples that follow won't teach you what do one you discover these inputs in your macro. It is best not to try code a whole macro from input to output in one go. It is much easier to start with simply putting together the API for macro - before you start working on the logic."
   ]
  },
  {
   "cell_type": "markdown",
   "metadata": {},
   "source": [
    "#### Get used to taking a peak at expressions\n",
    "\n",
    "One of my early fears with macros was *print()*. There are examples that show compile time *print()* statements vs runtime *print()* statements. The compile time statements are really useful.\n",
    "\n",
    "**Pro tip:** Anything you put before the start of the quote block is regular Julia code (free from any macro weirdness) and it only runs at compile time. "
   ]
  },
  {
   "cell_type": "code",
   "execution_count": 3,
   "metadata": {},
   "outputs": [
    {
     "name": "stdout",
     "output_type": "stream",
     "text": [
      "T = :Amplitude\n"
     ]
    },
    {
     "data": {
      "text/plain": [
       "* (generic function with 325 methods)"
      ]
     },
     "metadata": {},
     "output_type": "display_data"
    }
   ],
   "source": [
    "macro vectormult(T)\n",
    "    @show T\n",
    "    quote\n",
    "        @eval begin\n",
    "            (*)(s::$T, x::Vector{Float64}) = s.data .* x\n",
    "            (*)(x::Vector{Float64}, s::$T) = s.data .* x\n",
    "\n",
    "            (*)(s::$T, x::Float64) = s.data .* x\n",
    "            (*)(x::Float64, s::$T) = s.data .* x\n",
    "\n",
    "            (*)(s::$T, x::Int) = s.data .* Float64(x)\n",
    "            (*)(x::Int, s::$T) = s.data .* Float64(x)\n",
    "\n",
    "            (*)(s::$T, x::$T) = s.data .* x.data\n",
    "        end\n",
    "    end\n",
    "end\n",
    "\n",
    "@vectormult Amplitude\n"
   ]
  },
  {
   "cell_type": "markdown",
   "metadata": {},
   "source": [
    "The @show macro before the quote tells me how the macro sees whatever was passed as T.\n",
    "\n",
    "The first iteration on your new macro could be a simple as what I am doing below. All this macro does is tell me what it received as input."
   ]
  },
  {
   "cell_type": "code",
   "execution_count": 4,
   "metadata": {},
   "outputs": [
    {
     "name": "stdout",
     "output_type": "stream",
     "text": [
      ":Amplitude"
     ]
    }
   ],
   "source": [
    "\n",
    "macro showinput(y)\n",
    "\tshow(y)\n",
    "end\n",
    "\n",
    "@showinput Amplitude"
   ]
  },
  {
   "cell_type": "markdown",
   "metadata": {},
   "source": [
    "The macro sees Amplitude as the symbol :Amplitude"
   ]
  },
  {
   "cell_type": "code",
   "execution_count": 5,
   "metadata": {},
   "outputs": [
    {
     "name": "stdout",
     "output_type": "stream",
     "text": [
      ":((Amplitude, println))"
     ]
    }
   ],
   "source": [
    "@showinput Amplitude, println"
   ]
  },
  {
   "cell_type": "markdown",
   "metadata": {},
   "source": [
    "Now the macro sees the input \"Amplitude, println\" as an expression representation of a tuple. \n",
    "\n",
    "You don't need a macro to create an expression. You can mess with them yourself - like this:"
   ]
  },
  {
   "cell_type": "code",
   "execution_count": 6,
   "metadata": {},
   "outputs": [
    {
     "data": {
      "text/plain": [
       ":((Amplitude, println))"
      ]
     },
     "metadata": {},
     "output_type": "display_data"
    }
   ],
   "source": [
    "x = :((Amplitude, println))"
   ]
  },
  {
   "cell_type": "markdown",
   "metadata": {},
   "source": [
    "The two inputs to the macro were conveniently converted to a tuple and this tuple was converted into an expression. It is no longer a tuple, so all of its tupplness was left behind when it was turned into an expression. It is no longer indexable, so it is not iterable either. You have the power of the julia programming language to operate on it, but it is pretty much powerless. Don't say nobody warned you. Macros are hard!"
   ]
  },
  {
   "cell_type": "code",
   "execution_count": 7,
   "metadata": {},
   "outputs": [
    {
     "ename": "MethodError",
     "evalue": "MethodError: no method matching getindex(::Expr, ::Int64)",
     "output_type": "error",
     "traceback": [
      "MethodError: no method matching getindex(::Expr, ::Int64)\n",
      "\n",
      "Stacktrace:\n",
      " [1] top-level scope\n",
      "   @ c:\\Users\\mike\\.julia\\dev\\MacroExpression\\example.ipynb:1"
     ]
    }
   ],
   "source": [
    "x[1]"
   ]
  },
  {
   "cell_type": "markdown",
   "metadata": {},
   "source": [
    " \n",
    "> **Meta lesson 4**. Accept the gift of feedback. No matter how cryptic or harsh.\n",
    "\n",
    "I wish Julia's errors were more like Elm's. They are useful, but to need to put in the time and thought to understand how they are useful. When you understand what they are telling you, they are in fact blindingly obvious.\n",
    "\n",
    "Isn't it reasonably obvious to interpret the error above as, \"You idiot developer, how could you be so dumb as to try to index into an expression. Use your noggin and the docs. You will find the correct way to find the pieces of an expression! \". Instead they give you red herrings about Methods, Ints and getindexes.\n",
    "  "
   ]
  },
  {
   "cell_type": "markdown",
   "metadata": {},
   "source": [
    "Note: It is useful to know how to roundtrip things and convert an expression back to Julia objects. You use eval(). Horray! We have an indexable tuple again."
   ]
  },
  {
   "cell_type": "code",
   "execution_count": 8,
   "metadata": {},
   "outputs": [
    {
     "data": {
      "text/plain": [
       "Amplitude"
      ]
     },
     "metadata": {},
     "output_type": "display_data"
    }
   ],
   "source": [
    "eval(x)[1]"
   ]
  },
  {
   "cell_type": "markdown",
   "metadata": {},
   "source": [
    "#### Making sense of input expressions"
   ]
  },
  {
   "cell_type": "markdown",
   "metadata": {},
   "source": [
    "Unless you pass one or more scalars to a macro that you use verbatim without transformation, you will need learn how to decompose expressions into pieces and work with those pieces. This next section gives you some practical ways to get to grips with expressions."
   ]
  },
  {
   "cell_type": "code",
   "execution_count": 9,
   "metadata": {},
   "outputs": [
    {
     "name": "stdout",
     "output_type": "stream",
     "text": [
      "Expr\n",
      "  head: Symbol tuple\n",
      "  args: Array{Any}((2,))\n",
      "    1: Symbol Amplitude\n",
      "    2: Symbol println\n"
     ]
    }
   ],
   "source": [
    "dump(x)"
   ]
  },
  {
   "cell_type": "markdown",
   "metadata": {},
   "source": [
    "By dumping the expression we get a better view of what is inside an expression. All expressions look the same. They contains a head that explains what type of expression it is and args that explain what the expression operates on. The data structure is a tree. Let's make an expanded one and examine the tree."
   ]
  },
  {
   "cell_type": "code",
   "execution_count": 10,
   "metadata": {},
   "outputs": [
    {
     "name": "stdout",
     "output_type": "stream",
     "text": [
      "Expr\n",
      "  head: Symbol tuple\n",
      "  args: Array{Any}((2,))\n",
      "    1: Symbol Amplitude\n",
      "    2: Expr\n",
      "      head: Symbol call\n",
      "      args: Array{Any}((3,))\n",
      "        1: Symbol +\n",
      "        2: Symbol x\n",
      "        3: Int64 1\n"
     ]
    }
   ],
   "source": [
    "exprtree = :(Amplitude, x + 1)\n",
    "dump(exprtree)"
   ]
  },
  {
   "cell_type": "markdown",
   "metadata": {},
   "source": [
    "When you work with the contents of expressions in your macro code, do don't have the convenience of \"dump\". You can traverse the tree starting with the args of the root."
   ]
  },
  {
   "cell_type": "code",
   "execution_count": 11,
   "metadata": {},
   "outputs": [
    {
     "data": {
      "text/plain": [
       "2-element Vector{Any}:\n",
       " :Amplitude\n",
       " :(x + 1)"
      ]
     },
     "metadata": {},
     "output_type": "display_data"
    }
   ],
   "source": [
    "exprtree.args"
   ]
  },
  {
   "cell_type": "markdown",
   "metadata": {},
   "source": [
    "Since args is a vector we can index into it."
   ]
  },
  {
   "cell_type": "code",
   "execution_count": 12,
   "metadata": {},
   "outputs": [
    {
     "data": {
      "text/plain": [
       ":call"
      ]
     },
     "metadata": {},
     "output_type": "display_data"
    }
   ],
   "source": [
    "exprtree.args[2].head"
   ]
  },
  {
   "cell_type": "markdown",
   "metadata": {},
   "source": [
    "You may have expected to see a *+* as the head, but *+* is not an expression type. *+* is a function. All function calls live inside an expression type of *:call*. The args are the function name *+* and the literals that are being added."
   ]
  },
  {
   "cell_type": "code",
   "execution_count": 13,
   "metadata": {},
   "outputs": [
    {
     "data": {
      "text/plain": [
       "3-element Vector{Any}:\n",
       "  :+\n",
       "  :x\n",
       " 1"
      ]
     },
     "metadata": {},
     "output_type": "display_data"
    }
   ],
   "source": [
    "exprtree.args[2].args"
   ]
  },
  {
   "cell_type": "markdown",
   "metadata": {},
   "source": [
    "If *x+1* were indeed an example of an input that your needed for a macro and you need to isolate each piece as variable like x, a operation like + and a constant like 1, you could locate these elements by position in the expression."
   ]
  },
  {
   "cell_type": "code",
   "execution_count": 14,
   "metadata": {},
   "outputs": [
    {
     "data": {
      "text/plain": [
       "(:x, :+, 1)"
      ]
     },
     "metadata": {},
     "output_type": "display_data"
    }
   ],
   "source": [
    "variable = exprtree.args[2].args[2]\n",
    "operation = exprtree.args[2].args[1]\n",
    "constant = exprtree.args[2].args[3]\n",
    "(variable, operation, constant)"
   ]
  },
  {
   "cell_type": "markdown",
   "metadata": {},
   "source": [
    "This clearly works, and you may call me picky, but I not too keen on using, debugging or maintaining code that looks like this. I wondered whether there would be a way to parse expressions in a way that makes it easier to adapt to variations in the structure of the expression, gives good feedback to the developer when they mess up and supply the wrong input.\n",
    "\n",
    "### A more methodical way\n",
    "\n",
    "The example below demonstrates a more repeatable way of hunting down and structuring fragments in expressions."
   ]
  },
  {
   "cell_type": "code",
   "execution_count": 15,
   "metadata": {},
   "outputs": [
    {
     "data": {
      "text/plain": [
       "1-element Vector{Any}:\n",
       " Main.MacroExpression.BinaryFunction{Symbol, Int64}(:(x + 1), :+, (Symbol, Int64))"
      ]
     },
     "metadata": {},
     "output_type": "display_data"
    }
   ],
   "source": [
    "include(\"src/MacroExpression.jl\")\n",
    "found = MacroExpression.parseinput([MacroExpression.BinaryFunction{Symbol, Int}], :(x+1))"
   ]
  },
  {
   "cell_type": "markdown",
   "metadata": {},
   "source": [
    "The *parseinput()* function automates the process of looking for patterns in expressions. It can't look for each pattern known to mankind and splat out what it finds - otherwise the macro would have to decide what to do with each pattern known to mankind. Instead *parseinput()* looks for specific patterns that the macro author chooses to accept as inputs to the macro. \n",
    "\n",
    "In the example above, I instructed *parseinput* to hunt down *BinaryFunction*s that operate on a Symbol and an integer.  A *BinaryFunction* is defined as a Type. This is what it looks like.\n",
    "\n",
    "```{Julia}\n",
    "struct BinaryFunction{T,U}\n",
    "    expr::Any\n",
    "    func::Symbol\n",
    "    argtypes::Tuple{DataType, DataType}\n",
    "    BinaryFunction{T,U}(e, f::Symbol) where {T, U} = new(e, f, (T, U))\n",
    "end\n",
    "\n",
    "function capture(::Type{BinaryFunction{T,U}}, e::Expr) where {T,U}\n",
    "    if e.head == :call && length(e.args) == 3\n",
    "        return BinaryFunction{T,U}(e, e.args[1])\n",
    "    end\n",
    "    return nothing\n",
    "end\n",
    "\n",
    "func(x::BinaryFunction) = x.func\n",
    "\n",
    "```\n",
    "\n",
    "There are also a few methods implemented for this type. \n",
    "\n",
    "The *capture()* method contains the pattern matching code that finds expressions that look like *BinaryFunctions*. I defined this pattern as something that makes a *:call* with two arguments.\n",
    "\n",
    "There is also a *func()* method that extracts the function symbol from a *BinaryFunction* object.\n",
    "\n",
    "### Variations in macro signatures\n",
    "\n",
    "Notice how *parseinput()* returns a vector. That is because there is another problem that *parseinput()* helps with. Unlike my introductory simple macro that had one scalar input, macros can have much more complex signatures.\n",
    "\n",
    "#### Use case: Macro has many scalar inputs\n",
    "\n",
    "The macro below makes two separate calls - one for each input. It doesn't do anything useful. It simply transforms the inputs and returns them as a tuple."
   ]
  },
  {
   "cell_type": "code",
   "execution_count": 16,
   "metadata": {},
   "outputs": [
    {
     "data": {
      "text/plain": [
       "(+, sqrt)"
      ]
     },
     "metadata": {},
     "output_type": "display_data"
    }
   ],
   "source": [
    "macro twoinputs(a,b)\n",
    "    input1 = MacroExpression.parseinput([MacroExpression.BinaryFunction{Symbol, Int}], a)\n",
    "    input2 = MacroExpression.parseinput([MacroExpression.UnaryFunction{Int}], b)\n",
    "    return quote\n",
    "        (\n",
    "            $(MacroExpression.func(input1[1])),\n",
    "            $(MacroExpression.func(input2[1]))\n",
    "            )\n",
    "    end\n",
    "end\n",
    "x1 = 23\n",
    "@twoinputs x1+3 sqrt(9)"
   ]
  },
  {
   "cell_type": "markdown",
   "metadata": {},
   "source": [
    "The macro above parses the input a for a BinaryFunction and then parses input b for a UnaryFunction. If your macro expects specific types in a specific order, this is the way to do it. You could also loosen up your requirements.\n",
    "\n",
    "### Use case: Parse inputs by type without considering ordering"
   ]
  },
  {
   "cell_type": "code",
   "execution_count": 17,
   "metadata": {},
   "outputs": [
    {
     "data": {
      "text/plain": [
       "(sqrt, +)"
      ]
     },
     "metadata": {},
     "output_type": "display_data"
    }
   ],
   "source": [
    "macro twoanyorder(a,b)\n",
    "    types = [MacroExpression.BinaryFunction{Symbol, Int}, MacroExpression.UnaryFunction{Int}]\n",
    "    input1 = MacroExpression.parseinput(types, a)\n",
    "    input2 = MacroExpression.parseinput(types, b)\n",
    "    return quote\n",
    "        (\n",
    "            $(MacroExpression.func(input1[1])),\n",
    "            $(MacroExpression.func(input2[1]))\n",
    "            )\n",
    "    end\n",
    "end\n",
    "x1 = 23\n",
    "@twoanyorder sqrt(9) x1+3"
   ]
  },
  {
   "cell_type": "markdown",
   "metadata": {},
   "source": [
    "The above variant looks for both types in both inputs. Next we will use a vararg input.\n",
    "\n",
    "### Use case: variable number of inputs"
   ]
  },
  {
   "cell_type": "code",
   "execution_count": 18,
   "metadata": {},
   "outputs": [
    {
     "data": {
      "text/plain": [
       "3-element Vector{Symbol}:\n",
       " :sqrt\n",
       " :+\n",
       " :sqrt"
      ]
     },
     "metadata": {},
     "output_type": "display_data"
    }
   ],
   "source": [
    "macro varinputs(a...)\n",
    "    types = [MacroExpression.BinaryFunction{Symbol, Int}, MacroExpression.UnaryFunction{Int}]\n",
    "    inputs = MacroExpression.parseinput(types, a...)\n",
    "    outputs = [MacroExpression.func(x) for x in inputs]\n",
    "    return quote\n",
    "        $outputs\n",
    "    end\n",
    "end\n",
    "x1 = 23\n",
    "@varinputs sqrt(9) x1+3 sqrt(12)"
   ]
  },
  {
   "cell_type": "markdown",
   "metadata": {},
   "source": [
    "### Use case: inputs in a begin end block\n",
    "\n",
    "It is often more convenient for the user of your macro to place multiple inputs in a block. A block needs special parsing. *parseinput()* will look for blocks and unravel them."
   ]
  },
  {
   "cell_type": "code",
   "execution_count": 19,
   "metadata": {},
   "outputs": [
    {
     "data": {
      "text/plain": [
       "3-element Vector{Symbol}:\n",
       " :sqrt\n",
       " :+\n",
       " :sqrt"
      ]
     },
     "metadata": {},
     "output_type": "display_data"
    }
   ],
   "source": [
    "@varinputs begin\n",
    "    sqrt(9)\n",
    "    x1+3\n",
    "    sqrt(12)\n",
    "end"
   ]
  },
  {
   "cell_type": "markdown",
   "metadata": {},
   "source": [
    "Of course the macros defined above don't do anything useful. They only explain a range of possibilities for defining and parsing inputs.\n",
    "\n",
    "> **Meta lesson 5**: After you fail at doing something useful, learn by succeeding at doing something useless\n",
    "\n",
    "This is particularly true with macros. If you code a complex macro and it doesn't work, you you will have a tough time figuring out why it failed because it doesn't behave as predictably as regular code.  For the macros that I have worked on, I break them into 3 parts: parsing inputs ; transforming parsed inputs ; outputing something based on those transfomed parts.\n",
    "\n",
    "After dividing you macro up this way it is easy to work on each part in isolation: starting with the inputs and outputs parts separately. If you can't capture the inputs you were expecting to capture or can't process the outputs in the way you wanted, there is no sense in wasting time on the transformation.\n",
    "\n",
    "There is another benefit to breaking up your thinking and your code in this way. It is easier to fall back on what you already know. When you understand exactly what expression each step will get an input and what expression it needs to return as output, you can step out of the abyss and use conventional coding approaches: writing functions outside of macros to transform expressions. \n",
    "\n",
    "### Use Case: Wrapping code\n",
    "\n",
    "A good example is BenchmarkTools @benchmark. It takes some code as input, wrapping it with code that loops its execution and times the result.\n",
    "\n",
    "```{Julia}\n",
    "julia> @btime sin(x) setup=(x=rand())\n",
    "  4.361 ns (0 allocations: 0 bytes)\n",
    "0.49587200950472454\n",
    "```\n",
    "\n",
    "Here is an example of WIP towards a macro that follows the basic structure of @btime. It demontrates how to build a structure to wrap something."
   ]
  },
  {
   "cell_type": "code",
   "execution_count": 20,
   "metadata": {},
   "outputs": [
    {
     "name": "stdout",
     "output_type": "stream",
     "text": [
      "wrapped code will run here\n",
      "wrapped code will run here\n",
      "wrapped code will run here\n",
      "wrapped code will run here\n",
      "wrapped code will run here\n",
      "wrapped code will run here\n",
      "wrapped code will run here\n",
      "wrapped code will run here\n",
      "wrapped code will run here\n",
      "wrapped code will run here\n"
     ]
    },
    {
     "data": {
      "text/plain": [
       "10"
      ]
     },
     "metadata": {},
     "output_type": "display_data"
    }
   ],
   "source": [
    "macro wrapitwip(e)\n",
    "    types = [MacroExpression.BinaryFunction{Symbol, Int}, MacroExpression.UnaryFunction{Int}]\n",
    "    inputs = MacroExpression.parseinput(types, e)\n",
    "    ## tranformation TBD\n",
    "    return quote\n",
    "        counter = 0\n",
    "        for i in 1:10\n",
    "            println(\"wrapped code will run here\")\n",
    "            counter += 1\n",
    "        end\n",
    "        counter\n",
    "    end\n",
    "end\n",
    "@wrapitwip sqrt(9)"
   ]
  },
  {
   "cell_type": "markdown",
   "metadata": {},
   "source": [
    "The above WIP example is a bridge to the next set of use cases. These use cases will explore the types of things you can get macros to return.\n",
    "\n",
    "\n",
    "### Use case: defining new identifiers in your code\n",
    "\n",
    "This first one is really basic. It initializes a new variable to a value of 1."
   ]
  },
  {
   "cell_type": "code",
   "execution_count": 21,
   "metadata": {},
   "outputs": [
    {
     "data": {
      "text/plain": [
       "1"
      ]
     },
     "metadata": {},
     "output_type": "display_data"
    }
   ],
   "source": [
    "macro setone(x)\n",
    "    inputs = MacroExpression.parseinput([Symbol], x)\n",
    "    var = MacroExpression.literal(inputs[1]) |> esc\n",
    "    some_local_var = 23\n",
    "    return quote\n",
    "        $var = 1\n",
    "    end\n",
    "end\n",
    "@setone myvar \n",
    "myvar"
   ]
  },
  {
   "cell_type": "markdown",
   "metadata": {},
   "source": [
    "After this macro runs myvar is available outside the macro. You can think of this as the most basic of code generation examples. The quote section generated a simple assignment of myvar to the value of 1.\n",
    "\n",
    "I threw *some_local_var\" so you can see how that is different to $var. Currently it is not used. Let's see what happens if I try to output it."
   ]
  },
  {
   "cell_type": "code",
   "execution_count": 22,
   "metadata": {},
   "outputs": [
    {
     "ename": "UndefVarError",
     "evalue": "UndefVarError: somelocalvar not defined",
     "output_type": "error",
     "traceback": [
      "UndefVarError: somelocalvar not defined\n",
      "\n",
      "Stacktrace:\n",
      " [1] top-level scope\n",
      "   @ c:\\Users\\mike\\.julia\\dev\\MacroExpression\\example.ipynb:7"
     ]
    }
   ],
   "source": [
    "macro setone(x)\n",
    "    inputs = MacroExpression.parseinput([Symbol], x)\n",
    "    var = MacroExpression.literal(inputs[1]) |> esc\n",
    "    somelocalvar = 23\n",
    "    return quote\n",
    "        $var = 1\n",
    "        somelocalvar\n",
    "    end\n",
    "end\n",
    "@setone myvar "
   ]
  },
  {
   "cell_type": "markdown",
   "metadata": {},
   "source": [
    "The way that I understand what happened above is that the whole quote section is like a textual template. It is as if the macro pastes the quote section into the code when the macro runs. When it pastes the piece of text \"somelocalvar\", we get an error because \"somelocalvar\" is not in the context when that pasted in piece of text runs.\n",
    "\n",
    "If we add it to context before the macro runs, look what happens:"
   ]
  },
  {
   "cell_type": "code",
   "execution_count": 23,
   "metadata": {},
   "outputs": [
    {
     "data": {
      "text/plain": [
       "122"
      ]
     },
     "metadata": {},
     "output_type": "display_data"
    }
   ],
   "source": [
    "somelocalvar = 122\n",
    "@setone myvar"
   ]
  },
  {
   "cell_type": "markdown",
   "metadata": {},
   "source": [
    "The assigment of *somelocalvar\" to 23 inside the macro seems to be ignored. Why is this?\n",
    "\n",
    "There are 3 reasons:\n",
    "1) It is assigned at compile time: Anything outside the quote section only runs when the macro is compiled. \n",
    "2) It is assigned in a different local context: Julia's \"macro hygiene\" protects you from overwriting variables by creating a new context for the macro compile process. \n",
    "3) It is never actually refered to in the quote section: If I wanted the *somelocalvar* that I defined at compile time to influence the macro at runtime I have to interpolate it at compiletime.\n",
    "\n"
   ]
  },
  {
   "cell_type": "code",
   "execution_count": 24,
   "metadata": {},
   "outputs": [
    {
     "data": {
      "text/plain": [
       "23"
      ]
     },
     "metadata": {},
     "output_type": "display_data"
    }
   ],
   "source": [
    "macro setonewithreturn(x)\n",
    "    inputs = MacroExpression.parseinput([Symbol], x)\n",
    "    var = MacroExpression.literal(inputs[1]) |> esc\n",
    "    somelocalvar = 23\n",
    "    return quote\n",
    "        $var = 1\n",
    "        $somelocalvar\n",
    "    end\n",
    "end\n",
    "@setonewithreturn myvar2 "
   ]
  },
  {
   "cell_type": "markdown",
   "metadata": {},
   "source": [
    "Now the macro returns 23 because it was essentially hardcoded into the macro at compile time.  *$somelocalvar* becomes 23 after compilation."
   ]
  },
  {
   "cell_type": "code",
   "execution_count": 25,
   "metadata": {},
   "outputs": [
    {
     "data": {
      "text/plain": [
       "122"
      ]
     },
     "metadata": {},
     "output_type": "display_data"
    }
   ],
   "source": [
    "somelocalvar"
   ]
  },
  {
   "cell_type": "markdown",
   "metadata": {},
   "source": [
    "*somelocalvar* is still 122. That is because Julia created a new local variable when it compiled the macro."
   ]
  },
  {
   "cell_type": "code",
   "execution_count": 26,
   "metadata": {},
   "outputs": [
    {
     "data": {
      "text/plain": [
       "1"
      ]
     },
     "metadata": {},
     "output_type": "display_data"
    }
   ],
   "source": [
    "myvar2"
   ]
  },
  {
   "cell_type": "markdown",
   "metadata": {},
   "source": [
    "As before, *myvar2* is assigned when the macro runs. It is assigned when interpolating *var*. You will notice that when I assigned *var*, I took the precausion of *esc()*'ing it. I did that in case Juila decided that it the symbol *myvar2* that I passed as an expression to the macro needed to be transported into a new context to prevent it clashing with an existing identifier. In this case my parania was uncalled for. This works without the *|> esc*. \n",
    "\n",
    "The docs don't attempt to explain exactly when you need to be paranoid and *esc()* things. I didn't try to figure it out. I look out for errors that suggest missing identifiers and *esc()* when needed.\n",
    "\n",
    "### Generating a variable number of identifiers in quote code\n",
    "\n",
    "The previous macro kept things simple by avoiding vectors. Let's throw caution to the wind.\n"
   ]
  },
  {
   "cell_type": "code",
   "execution_count": 27,
   "metadata": {},
   "outputs": [
    {
     "name": "stdout",
     "output_type": "stream",
     "text": [
      "Expr[:($(Expr(:escape, :(myvar3 = 1)))), :($(Expr(:escape, :(myvar4 = 1))))]"
     ]
    },
    {
     "data": {
      "text/plain": [
       "1"
      ]
     },
     "metadata": {},
     "output_type": "display_data"
    }
   ],
   "source": [
    "macro setmanytoone(x...)\n",
    "    inputs = MacroExpression.parseinput([Symbol], x...)\n",
    "    vars = [:($(MacroExpression.literal(x)) = 1) |> esc for x in inputs]\n",
    "    print(vars)\n",
    "    return quote\n",
    "        $(vars...)\n",
    "    end\n",
    "end\n",
    "@setmanytoone myvar3 myvar4\n",
    "myvar3\n"
   ]
  },
  {
   "cell_type": "markdown",
   "metadata": {},
   "source": [
    "Of all of the grey hair inducing moments of this endevour, the one line of code that produces *vars* above was the worst.\n",
    "\n",
    "I will work backwards to explain it.\n",
    "\n",
    "1) To produce a variable number of lines of code when your macro runs you have to interpolate a vector containing the expressions that you want \"pasted in your code\".\n",
    "2) This means you have to figure out what kind of vector will produce the right result when interpolated.\n",
    "\n",
    "This is were it pays to step away from your macro and do something like this:"
   ]
  },
  {
   "cell_type": "code",
   "execution_count": 28,
   "metadata": {},
   "outputs": [
    {
     "name": "stdout",
     "output_type": "stream",
     "text": [
      "Expr\n",
      "  head: Symbol tuple\n",
      "  args: Array{Any}((2,))\n",
      "    1: Expr\n",
      "      head: Symbol =\n",
      "      args: Array{Any}((2,))\n",
      "        1: Symbol somevar1\n",
      "        2: Int64 2\n",
      "    2: Expr\n",
      "      head: Symbol =\n",
      "      args: Array{Any}((2,))\n",
      "        1: Symbol somevar2\n",
      "        2: Int64 7\n"
     ]
    }
   ],
   "source": [
    "dump(:(somevar1 = 2, somevar2 = 7))"
   ]
  },
  {
   "cell_type": "markdown",
   "metadata": {},
   "source": [
    "$vars needs to look something like the above.\n",
    "\n",
    "What kind of transformation will produce this from an array containing the two symbols?"
   ]
  },
  {
   "cell_type": "code",
   "execution_count": 29,
   "metadata": {},
   "outputs": [
    {
     "data": {
      "text/plain": [
       "2-element Vector{Int64}:\n",
       " 1\n",
       " 1"
      ]
     },
     "metadata": {},
     "output_type": "display_data"
    }
   ],
   "source": [
    "symbols = [:somevar1, :somevar2]\n",
    "[x=1 for x in symbols]"
   ]
  },
  {
   "cell_type": "markdown",
   "metadata": {},
   "source": [
    "That didn't work. \"x=1\" produces [1,1]"
   ]
  },
  {
   "cell_type": "code",
   "execution_count": 30,
   "metadata": {},
   "outputs": [
    {
     "data": {
      "text/plain": [
       "2-element Vector{Expr}:\n",
       " :(x = 1)\n",
       " :(x = 1)"
      ]
     },
     "metadata": {},
     "output_type": "display_data"
    }
   ],
   "source": [
    "[:(x = 1) for x in symbols]"
   ]
  },
  {
   "cell_type": "markdown",
   "metadata": {},
   "source": [
    "At least we have 2 expressions, but they are not right. You probably skipped over the long and boring story about *somelocalvar*? This local var only existed at compile time until we interpolated it. We don't want poor *x* to suffer the same fate. We want the value of x at compile time inserted into the macro. This means we need to interpolate it into the macro. \n",
    "\n",
    "There is an additional critical subtlety. Our transformation code in @setmanytoone lives outside the quote block. We want to interpolate in our transformation code. You can only interpolate into a quoted area. If you look at the code below you will see I wreapped everything I am doing to x in *:()*. This builds a new quoted area to interpolate into."
   ]
  },
  {
   "cell_type": "code",
   "execution_count": 31,
   "metadata": {},
   "outputs": [
    {
     "data": {
      "text/plain": [
       "2-element Vector{Expr}:\n",
       " :(somevar1 = 1)\n",
       " :(somevar2 = 1)"
      ]
     },
     "metadata": {},
     "output_type": "display_data"
    }
   ],
   "source": [
    "[:($x = 1) for x in symbols]"
   ]
  },
  {
   "cell_type": "markdown",
   "metadata": {},
   "source": [
    "The painful process above is made somewhat less painful by mucking about outside of macro code. Once you have found a way to build a vector that looks like the one you need in your macro, you can retrofit the logic to the macro.\n",
    "\n",
    "The transformation comprehension that I used in @setmanytoone is a modified version of the above. \n",
    "\n",
    "Note: In my macro code I *esc()*ed the expression again. This time I wasn't juts being paranoid. If I omit the *esc()*, it doesn't work. Presumably, if you omit the *esc()* it operates on some local variant of *somevars* that are not visible outside the macro."
   ]
  },
  {
   "cell_type": "markdown",
   "metadata": {},
   "source": [
    "### Building structs, functions and function calls using macros\n",
    "\n",
    "The the struct, function or function call involves a fixed number of templated variables to be substituted at compile time, this is actually a simple task. The very first macro that I showed was one of these. It built a fixed number of methods for a struct that is supplied at compile time.\n",
    "\n",
    "In the code that I am writing for composition, I need to deal with event data a lot. There is a master clock of events that drives overall timing of the song. Each \"performer\" in the composition responds to these events, by producing other events. I wanted to make each of these events a custom type so that I could use multipple dispatch to specialize event handling code.\n",
    "\n",
    "I use a macro to create all of my event types.\n",
    "\n",
    "```{Juila}\n",
    "macro event(eventname, dtype)\n",
    "    quote\n",
    "        struct $eventname <: Event\n",
    "            time::Float64\n",
    "            value::$dtype\n",
    "            repeats::Int\n",
    "            obj::Any\n",
    "            function $eventname(t::Float64, value::$dtype; repeats::Int=1, obj=nothing)\n",
    "                return new(t, value, repeats, obj)\n",
    "            end\n",
    "        end\n",
    "    end\n",
    "end\n",
    "\n",
    "\n",
    "@event Clock Float64\n",
    "\n",
    "```\n",
    "\n",
    "Clock is an example of an event type. Each clock event carries a floating point value. Other events may carry values of other types. \n",
    "\n",
    "This macro needs only two fixed inputs. An identifier name and a type. These two values are metaphorically pasted into the quoted section of the macro at compile time. This is easy.\n",
    "\n",
    "### Wouldn't it be nice to specialize the fields of a struct using a macro.\n",
    "\n",
    "It would be nice if it were nice to code. But it is not nice to code! In fact it is so not nice to code, that I don't recommend it.\n",
    "\n",
    "Base.@kwdef is an example. The macro inputs are turtransformed into a struct with a variable number of fields and a function with a variable number of arguments. The task of mixing a few standard fields with a few user-supplied ones makes the task of defininging specialized structs in a macro harder than the task of creating Base.@kwdef. \n",
    "\n",
    "The machanics of doing this are the same as what I demonsrated in *@setmanytoone*, but you have to do more complex transformations and interpolote multiple vectors in your final quoted section of your macro. If you don't believe me that it messy, take a look at the source code for Base.@kedef.\n",
    "\n",
    "From a logical perspective, as much as this sounds like the perfect use case for a macro, it is far from it from an implementation perspective.\n",
    "\n",
    "> **Meta lesson 6** : Don't fight the tool!\n",
    "\n",
    "Julia, like every other general purpose tool, has a natural way of working. Sometimes this natural way of working can interfer with what you are trying to achieve with it. You can take charge of the beast and get it to behave like you want it to, but before even contemplating this, you need to actually need to surcome to the beast. \n",
    "\n",
    "When you surcome to the Julia beast, it means embracing parameterized types and multiple dispatch instead of trying to emulate more conventional object orientened patterns. Sometimes it means accepting a small amount of copy and pasted code. Sometimes it makes the your code a bit harder to read. This is the nature of the beast. This is your challendge as a coder. You can't tame the beast. You have to understand its strengths and code for them.\n",
    "\n",
    "My @event example I surcame to the beast by adding that ominously named field called *obj*. I decided not to parameterize its type because I didn't need to dispatch on it, I just need to to be there in case I want to dump additional data into an event. Its prescence means my type definition for each event are not as descriptive as they should be. This can have bad side effects - namely complex event handling code. In the specifics of my code, I am not exposing those side effects so I can accept that my event definition is more vague than it should have been.\n",
    "\n",
    "### Wrapping things up\n",
    "\n",
    "Hopefully this helped you understand the pitfalls of macro development better. Hopefully it also got you thinking about your motives for wanting to create macros - and whether the hole you are trying to dig yourself out of is worth filling in a different way. If you do create macros, I hope this makes it easy for you too. \n",
    "\n",
    "## Epilogue. The future promise of more natural translation of data to code.\n",
    "\n",
    "I recommended not trying to chase 100% DRY code in Julia. That isn't because I don't think it is valid long term goal. It is just because it is not practical today. Language designers should abosolutely strive for it in new languages or modifications to existing ones.\n",
    "\n",
    "My earliest experiences with \"data as code\" were with writing SQL againstsdatabase system tables. These queries generated new queries that automated tedious coding. Later ETL tools emerged. They saved tedious coding too, but they introduced new problems. They lack 90% the facilities of a general purpose langauges - the facilities like abstrctions that promote reuse. The inevitibale consequence of wide-scale use of a something like a hard-coded code-generator like an ETL tool a static system that actively resists change. The long term success of any large code-base rests on its responsiveness to change. \n",
    "\n",
    "I find most language features are there to help you \"build it right\", not to help you adapt when you figured out you should have done it differently. When you start coding anything new, your abstractions are based on intuition. As your code evolves, weaknesses in your abstractions become apparent. Do you fix them now? Do you wait until later? What if the language managed to stay hooked together gracefully while you constantly evolved your abstractions. What if you could data mine your code to find more useful abstractions?\n",
    "\n",
    "Science fiction? I don't think so. The naive 1st macro that I wrote already demonstrated how metaprogramming helps with maintenance. It allowed be to succinctly describe which of my structs possess a particular multiplitive trait. It allowed me to describe separately how that trait should be implemented. My current implementation is naive, but suits the bahavior that my current crop of stucts need. My implementation can evlove at will - to be more generic or more specialized as I need it. This is already better than copy and paste. All that is missing is method of describing the behavior of this trait that isn't so obstuce. \n",
    "\n",
    "The second part about mining code for useful abstractions is less easy to accept. Your experience with LLMs may be different to mine, but I see lots of subpar code generation. Currently the LLM wastes a lot of its precious token-constrained psudo-brainpower converting text into some form of common syntaxical patterns. It understands nothing of the wider system that any indiviudal piece of code makes up. It doesn't have to be that way. Instead of text, picture your code as a graph. How easy would it be to find common ways of piecing together logic in that graph? How easy would it be to assign commonly occuring patterns a name? How easy would it be to replicate common patterns reliabily? \n"
   ]
  },
  {
   "cell_type": "code",
   "execution_count": 32,
   "metadata": {},
   "outputs": [],
   "source": []
  }
 ],
 "metadata": {
  "kernelspec": {
   "display_name": "Julia 1.8.5",
   "language": "julia",
   "name": "julia-1.8"
  },
  "language_info": {
   "file_extension": ".jl",
   "mimetype": "application/julia",
   "name": "julia",
   "version": "1.8.5"
  }
 },
 "nbformat": 4,
 "nbformat_minor": 2
}

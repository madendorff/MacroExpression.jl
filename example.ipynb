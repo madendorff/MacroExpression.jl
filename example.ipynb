{
 "cells": [
  {
   "cell_type": "markdown",
   "metadata": {},
   "source": [
    "## Julia Macros : Learning through use cases\n",
    "\n",
    "If you are reading this, you either didn't read the Julia Meta Programming docs ; or you are a masochist. The docs are correct. Nobody in their right mind should be trying to create macros. They are too difficult. I didn't believe the docs. I use macros often. What would life be like without @btime; @match; @test; @kwdef. Their authors must be of sound mind. Surely macros can't be all that bad.\n",
    "\n",
    "I took the plunge. I wrote one. It was easy. The docs lied. I took the plunge again. I almost drowned. The docs are right. Macros are almost impossible. I must be a masochist. I thought if I studdied a few macros I would figure out the patterns and life would be good. I followed the patterns. I stuck random $'s signs and \"esc\" in various places in my macros. Sometimes it even worked. How many missteps would it take to figure out the patterns?\n",
    "\n",
    "### Disclaimer: Reading this is not going to make macros easy\n",
    "\n",
    "Reading this will help you understand why macros are hard. It may encourge you to try harder to find a function that will do a simalar job, or that copy and paste isn't as bad as you thought it was. \n",
    "\n",
    "### Background: Why I choose the masochistic root.\n",
    "\n",
    "I am building a DSL for composition. This is a passion project. It's first task the rather challenging task of composing mulutimedia artworks comprising of music and images. I am hoping for a natural and expressive way for the composer to provide input to the composition process. A natural process will make for easy learning and easy iterative revisions. Nothing kills the creative flow more than hunting down coding errors and fighting the syntax to work around them. I know that if I use macros, I have less constraints on the syntax. Given the dire warnings in the docs, I wanted to know how viable it would front my API with macros, hiding most of my functions and resticting the amount of Julia syntax that the composer needs to understand. \n",
    "\n",
    "### Metagoal: Life lessons\n",
    "\n",
    "As technologists, we pride ourselves in what we know. We also pride ourselves in our ability to get stuff done. When our deep knowledge propells us to get stuff done better and faster, these two sources of pride are aligned. However when we favor what we know for expediant results, we actively avoid what we don't know. This is a big deal! It hampers our personal growth. It causes conflict in teams. I could go on..., but instead I will leave you with my abstract metagoal: to find techniques to embrace unknowns; get stuff done ; and make meaningful progress. **Meaningful progress seldom comes from what you know**.\n",
    "\n",
    "### A gentle start\n",
    "\n",
    "Not all macros are hard. When I got lucky with my first one, it wasn't luck. If all you need is a macro that substitutes a variable or two into templated code, you should be ok."
   ]
  },
  {
   "cell_type": "code",
   "execution_count": 1,
   "metadata": {},
   "outputs": [
    {
     "data": {
      "text/plain": [
       "@vectormult"
      ]
     },
     "metadata": {},
     "output_type": "display_data"
    }
   ],
   "source": [
    "\"\"\"\n",
    "Enable multiply for a struct with a .data vector\n",
    "\"\"\"\n",
    "macro vectormult(T)\n",
    "    quote\n",
    "        @eval begin\n",
    "            (*)(s::$T, x::Vector{Float64}) = s.data .* x\n",
    "            (*)(x::Vector{Float64}, s::$T) = s.data .* x\n",
    "\n",
    "            (*)(s::$T, x::Float64) = s.data .* x\n",
    "            (*)(x::Float64, s::$T) = s.data .* x\n",
    "\n",
    "            (*)(s::$T, x::Int) = s.data .* Float64(x)\n",
    "            (*)(x::Int, s::$T) = s.data .* Float64(x)\n",
    "\n",
    "            (*)(s::$T, x::$T) = s.data .* x.data\n",
    "        end\n",
    "    end\n",
    "end"
   ]
  },
  {
   "cell_type": "markdown",
   "metadata": {},
   "source": [
    "I have an aversion to copy and paste and I have lots of structs that contain a single vector and a bunch of properties. These structs are just dying to be multiplied by things. The macro above was a easy to write. It is not going to win any prizes for generic coding, but give me a break. This was my first macro and it works perfectly for what I needed it for. Here is an example."
   ]
  },
  {
   "cell_type": "code",
   "execution_count": 2,
   "metadata": {},
   "outputs": [
    {
     "data": {
      "text/plain": [
       "2-element Vector{Float64}:\n",
       " 6.4\n",
       " 2.6"
      ]
     },
     "metadata": {},
     "output_type": "display_data"
    }
   ],
   "source": [
    "import Base: *\n",
    "\n",
    "struct Amplitude\n",
    "    data::Vector{Float64}\n",
    "    alpha::Float64\n",
    "    beta::Float64\n",
    "end\n",
    "\n",
    "@vectormult Amplitude\n",
    "\n",
    "a = Amplitude([3.2, 1.3], 0.5, 0.33)\n",
    "2a"
   ]
  },
  {
   "cell_type": "markdown",
   "metadata": {},
   "source": [
    "Not exactly ground breaking stuff, but it shows that macros can be easy. What makes this one easy is:\n",
    "\n",
    "1) It is basic template substitution. Julia substitutes T with Amplitude at compile time and produces new code that points to the Amplitude struct.\n",
    "2) The act of substituation affect what this macro brings back into the main namespace. It always brings back (*).\n",
    "3) T is a scalar.\n",
    "4) The input to the macro (T) is not transformed by the macro. It is used as is: $T.\n",
    "\n",
    "For any macro that conforms to the above criteria, you have nothing to fear. Go forth and mutiply, divide or do anything to avoid the dreaded copy and paste."
   ]
  },
  {
   "cell_type": "markdown",
   "metadata": {},
   "source": [
    "### Julia Expressions\n",
    "\n",
    "There is a lot of material covering Julia expressions and the abstract syntax tree. I am not going to cover it again. When attempt a macro that violoates any of the four easy criteria, you need to be aware of what is happening to whatever you pass into your macro."
   ]
  },
  {
   "cell_type": "markdown",
   "metadata": {},
   "source": [
    "#### Get used to taking a peak at expressions\n",
    "\n",
    "One of my early fears with macros was *print()*. There are examples that show compile time *print()* statements vs runtime *print()* statements. The compile time statements are really useful.\n",
    "\n",
    "**Pro tip:** Anything you put before the start of the quote block is regular Julia code (free from any macro weirdness) and it only runs at compile time. "
   ]
  },
  {
   "cell_type": "code",
   "execution_count": 3,
   "metadata": {},
   "outputs": [
    {
     "name": "stdout",
     "output_type": "stream",
     "text": [
      "T = :Amplitude\n"
     ]
    },
    {
     "data": {
      "text/plain": [
       "* (generic function with 325 methods)"
      ]
     },
     "metadata": {},
     "output_type": "display_data"
    }
   ],
   "source": [
    "macro vectormult(T)\n",
    "    @show T\n",
    "    quote\n",
    "        @eval begin\n",
    "            (*)(s::$T, x::Vector{Float64}) = s.data .* x\n",
    "            (*)(x::Vector{Float64}, s::$T) = s.data .* x\n",
    "\n",
    "            (*)(s::$T, x::Float64) = s.data .* x\n",
    "            (*)(x::Float64, s::$T) = s.data .* x\n",
    "\n",
    "            (*)(s::$T, x::Int) = s.data .* Float64(x)\n",
    "            (*)(x::Int, s::$T) = s.data .* Float64(x)\n",
    "\n",
    "            (*)(s::$T, x::$T) = s.data .* x.data\n",
    "        end\n",
    "    end\n",
    "end\n",
    "\n",
    "@vectormult Amplitude\n"
   ]
  },
  {
   "cell_type": "markdown",
   "metadata": {},
   "source": [
    "When all you pass to a macros is a scalar value or identifier, it easy to understand how the macro sees it."
   ]
  },
  {
   "cell_type": "code",
   "execution_count": 4,
   "metadata": {},
   "outputs": [
    {
     "name": "stdout",
     "output_type": "stream",
     "text": [
      ":Amplitude"
     ]
    }
   ],
   "source": [
    "\n",
    "macro showinput(y)\n",
    "\tshow(y)\n",
    "end\n",
    "\n",
    "@showinput Amplitude"
   ]
  },
  {
   "cell_type": "markdown",
   "metadata": {},
   "source": [
    "The macro sees Amplitude as the symbol :Amplitude"
   ]
  },
  {
   "cell_type": "code",
   "execution_count": 5,
   "metadata": {},
   "outputs": [
    {
     "name": "stdout",
     "output_type": "stream",
     "text": [
      ":((Amplitude, println))"
     ]
    }
   ],
   "source": [
    "@showinput Amplitude, println"
   ]
  },
  {
   "cell_type": "markdown",
   "metadata": {},
   "source": [
    "The macro sees the input \"Amplitude, println\" as an expression representation of a tuple. This is how you can create an expression yourself."
   ]
  },
  {
   "cell_type": "code",
   "execution_count": 6,
   "metadata": {},
   "outputs": [
    {
     "data": {
      "text/plain": [
       ":((Amplitude, println))"
      ]
     },
     "metadata": {},
     "output_type": "display_data"
    }
   ],
   "source": [
    "x = :((Amplitude, println))"
   ]
  },
  {
   "cell_type": "markdown",
   "metadata": {},
   "source": [
    "The two inputs to the macro were conveniently converted to a tuple and this tuple was converted into an expression. It is no longer a tuple, so all of its tupplness was left behind when it was turned into an expression. It is no longer indexable, so it is not iterable either. You have the power of the julia programming language to operate on it, but it is pretty much powerless. Don't say nobody warned you. Macros are hard!"
   ]
  },
  {
   "cell_type": "code",
   "execution_count": 7,
   "metadata": {},
   "outputs": [
    {
     "ename": "MethodError",
     "evalue": "MethodError: no method matching getindex(::Expr, ::Int64)",
     "output_type": "error",
     "traceback": [
      "MethodError: no method matching getindex(::Expr, ::Int64)\n",
      "\n",
      "Stacktrace:\n",
      " [1] top-level scope\n",
      "   @ c:\\Users\\mike\\.julia\\dev\\MacroExpression\\example.ipynb:1"
     ]
    }
   ],
   "source": [
    "x[1]"
   ]
  },
  {
   "cell_type": "markdown",
   "metadata": {},
   "source": [
    "Note: It is useful to know how to roundtrip things and convert an expression back to Julia objects. You use eval(). Horray! We have an indexable tuple again."
   ]
  },
  {
   "cell_type": "code",
   "execution_count": 8,
   "metadata": {},
   "outputs": [
    {
     "data": {
      "text/plain": [
       "Amplitude"
      ]
     },
     "metadata": {},
     "output_type": "display_data"
    }
   ],
   "source": [
    "eval(x)[1]"
   ]
  },
  {
   "cell_type": "markdown",
   "metadata": {},
   "source": [
    "#### Making sense of input expressions"
   ]
  },
  {
   "cell_type": "markdown",
   "metadata": {},
   "source": [
    "Unless you pass one or more scalars to a macro that you use verbatim without transformation, you will need learn how to decompose expression into pieces and work with those pieces. This next section gives you some practical ways to get to grips with expressions."
   ]
  },
  {
   "cell_type": "code",
   "execution_count": 9,
   "metadata": {},
   "outputs": [
    {
     "name": "stdout",
     "output_type": "stream",
     "text": [
      "Expr\n",
      "  head: Symbol tuple\n",
      "  args: Array{Any}((2,))\n",
      "    1: Symbol Amplitude\n",
      "    2: Symbol println\n"
     ]
    }
   ],
   "source": [
    "dump(x)"
   ]
  },
  {
   "cell_type": "markdown",
   "metadata": {},
   "source": [
    "By dumping the expression we get a better view of what is inside an expression. All expressions look the same. They contains a head that explains what type of expression it is and args that explain what the expression operates on. The data structure is a tree. Let's make an expanded one and examine the tree."
   ]
  },
  {
   "cell_type": "code",
   "execution_count": 10,
   "metadata": {},
   "outputs": [
    {
     "name": "stdout",
     "output_type": "stream",
     "text": [
      "Expr\n",
      "  head: Symbol tuple\n",
      "  args: Array{Any}((2,))\n",
      "    1: Symbol Amplitude\n",
      "    2: Expr\n",
      "      head: Symbol call\n",
      "      args: Array{Any}((3,))\n",
      "        1: Symbol +\n",
      "        2: Symbol x\n",
      "        3: Int64 1\n"
     ]
    }
   ],
   "source": [
    "exprtree = :(Amplitude, x + 1)\n",
    "dump(exprtree)"
   ]
  },
  {
   "cell_type": "markdown",
   "metadata": {},
   "source": [
    "When you work with the contents of expressions in your macro code, do don't have the convenience of \"dump\". You can traverse the tree starting with the args of the root."
   ]
  },
  {
   "cell_type": "code",
   "execution_count": 11,
   "metadata": {},
   "outputs": [
    {
     "data": {
      "text/plain": [
       "2-element Vector{Any}:\n",
       " :Amplitude\n",
       " :(x + 1)"
      ]
     },
     "metadata": {},
     "output_type": "display_data"
    }
   ],
   "source": [
    "exprtree.args"
   ]
  },
  {
   "cell_type": "markdown",
   "metadata": {},
   "source": [
    "Since args is a vector we can index into it."
   ]
  },
  {
   "cell_type": "code",
   "execution_count": 12,
   "metadata": {},
   "outputs": [
    {
     "data": {
      "text/plain": [
       ":call"
      ]
     },
     "metadata": {},
     "output_type": "display_data"
    }
   ],
   "source": [
    "exprtree.args[2].head"
   ]
  },
  {
   "cell_type": "markdown",
   "metadata": {},
   "source": [
    "You may have expected to see a *+* as the head, but *+* is not an expression type. *+* is a function. All function calls live inside an expression type of *:call*. The args are the function name *+* and the literals that are being added."
   ]
  },
  {
   "cell_type": "code",
   "execution_count": 13,
   "metadata": {},
   "outputs": [
    {
     "data": {
      "text/plain": [
       "3-element Vector{Any}:\n",
       "  :+\n",
       "  :x\n",
       " 1"
      ]
     },
     "metadata": {},
     "output_type": "display_data"
    }
   ],
   "source": [
    "exprtree.args[2].args"
   ]
  },
  {
   "cell_type": "markdown",
   "metadata": {},
   "source": [
    "If *x+1* were indeed an example of an input that your needed for a macro and you need to isolate each piece as variable like x, a operation like + and a constant like 1, you could locate these elements by position in the expression."
   ]
  },
  {
   "cell_type": "code",
   "execution_count": 14,
   "metadata": {},
   "outputs": [
    {
     "data": {
      "text/plain": [
       "(:x, :+, 1)"
      ]
     },
     "metadata": {},
     "output_type": "display_data"
    }
   ],
   "source": [
    "variable = exprtree.args[2].args[2]\n",
    "operation = exprtree.args[2].args[1]\n",
    "constant = exprtree.args[2].args[3]\n",
    "(variable, operation, constant)"
   ]
  },
  {
   "cell_type": "markdown",
   "metadata": {},
   "source": [
    "This clearly works, and you may call me picky, but I not too keen on using, debugging or maintaining code that looks like this. I wondered whether there would be a way to parse expressions in a way that makes it easier to adapt to variations in the structure of the expression, gives good feedback to the developer when they mess up and supply the wrong input.\n",
    "\n",
    "### A more methodical way\n",
    "\n",
    "The example below demonstrates a more repeatable way of hunting down and structuring fragments in expressions."
   ]
  },
  {
   "cell_type": "code",
   "execution_count": 15,
   "metadata": {},
   "outputs": [
    {
     "data": {
      "text/plain": [
       "Main.MacroExpression"
      ]
     },
     "metadata": {},
     "output_type": "display_data"
    }
   ],
   "source": [
    "include(\"src/MacroExpression.jl\")\n",
    "\n"
   ]
  },
  {
   "cell_type": "code",
   "execution_count": 16,
   "metadata": {},
   "outputs": [
    {
     "data": {
      "text/plain": [
       "1-element Vector{Any}:\n",
       " Main.MacroExpression.BinaryFunction{Symbol, Int64}(:+, (Symbol, Int64))"
      ]
     },
     "metadata": {},
     "output_type": "display_data"
    }
   ],
   "source": [
    "MacroExpression.parseinput([MacroExpression.BinaryFunction{Symbol, Int}], :(x+1))"
   ]
  }
 ],
 "metadata": {
  "kernelspec": {
   "display_name": "Julia 1.8.5",
   "language": "julia",
   "name": "julia-1.8"
  },
  "language_info": {
   "file_extension": ".jl",
   "mimetype": "application/julia",
   "name": "julia",
   "version": "1.8.5"
  }
 },
 "nbformat": 4,
 "nbformat_minor": 2
}
